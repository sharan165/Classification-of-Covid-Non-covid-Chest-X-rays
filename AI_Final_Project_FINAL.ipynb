{
 "cells": [
  {
   "cell_type": "code",
   "execution_count": 1,
   "metadata": {},
   "outputs": [],
   "source": [
    "import numpy as np\n",
    "import pandas as pd\n",
    "import matplotlib.pyplot as plt\n",
    "import tensorflow\n",
    "from tensorflow.keras.models import Sequential,Model\n",
    "from tensorflow.keras.preprocessing.image import ImageDataGenerator\n",
    "from tensorflow.keras.optimizers import *\n",
    "from tensorflow.keras.regularizers import *\n",
    "from tensorflow.keras.layers import *\n",
    "from sklearn.model_selection import train_test_split\n",
    "from sklearn.metrics import classification_report\n",
    "from sklearn.metrics import confusion_matrix\n",
    "from sklearn.linear_model import LogisticRegression\n",
    "from sklearn.svm import SVC\n",
    "from sklearn.naive_bayes import GaussianNB\n",
    "from sklearn.preprocessing import StandardScaler\n",
    "import glob\n",
    "import PIL\n",
    "from PIL import Image\n",
    "import os\n",
    "%matplotlib inline"
   ]
  },
  {
   "cell_type": "code",
   "execution_count": 31,
   "metadata": {},
   "outputs": [
    {
     "name": "stdout",
     "output_type": "stream",
     "text": [
      "[name: \"/device:CPU:0\"\n",
      "device_type: \"CPU\"\n",
      "memory_limit: 268435456\n",
      "locality {\n",
      "}\n",
      "incarnation: 7526235597326139000\n",
      "]\n"
     ]
    }
   ],
   "source": [
    "from tensorflow.python.client import device_lib\n",
    "print(device_lib.list_local_devices())"
   ]
  },
  {
   "cell_type": "code",
   "execution_count": 32,
   "metadata": {},
   "outputs": [
    {
     "name": "stdout",
     "output_type": "stream",
     "text": [
      "Num GPUs Available:  0\n",
      "1.15.0\n"
     ]
    }
   ],
   "source": [
    "import tensorflow as tf\n",
    "print(\"Num GPUs Available: \", len(tf.config.experimental.list_physical_devices('GPU')))\n",
    "print(tf.__version__)"
   ]
  },
  {
   "cell_type": "markdown",
   "metadata": {},
   "source": [
    "### Loading Data"
   ]
  },
  {
   "cell_type": "code",
   "execution_count": 33,
   "metadata": {},
   "outputs": [
    {
     "name": "stdout",
     "output_type": "stream",
     "text": [
      "Found 186 images belonging to 2 classes.\n",
      "Found 92 images belonging to 2 classes.\n"
     ]
    }
   ],
   "source": [
    "train_datagen = ImageDataGenerator(rescale=1.0/255.0)\n",
    "\n",
    "test_datagen = ImageDataGenerator(rescale=1.0/255.0)\n",
    "\n",
    "training_set = train_datagen.flow_from_directory(\n",
    "        r'C:\\Users\\shara\\Downloads\\Artificial Intelligence\\Final Project\\dataset\\train',\n",
    "        target_size=(224, 224),\n",
    "        batch_size=186,\n",
    "        class_mode='categorical')\n",
    "\n",
    "test_set = test_datagen.flow_from_directory(\n",
    "        r'C:\\Users\\shara\\Downloads\\Artificial Intelligence\\Final Project\\dataset\\test',\n",
    "        target_size=(224, 224),\n",
    "        batch_size = 92,\n",
    "        class_mode='categorical')"
   ]
  },
  {
   "cell_type": "code",
   "execution_count": 34,
   "metadata": {},
   "outputs": [],
   "source": [
    "# X = training_set.image_data_generator\n",
    "# y = training_set.labels"
   ]
  },
  {
   "cell_type": "markdown",
   "metadata": {},
   "source": [
    "### Creating array of Training Data and Labels "
   ]
  },
  {
   "cell_type": "code",
   "execution_count": 35,
   "metadata": {},
   "outputs": [],
   "source": [
    "batch_size=186\n",
    "total_images = training_set.n\n",
    "steps = total_images//batch_size \n",
    "#iterations to cover all data, so if batch is 5, it will take total_images/5  iteration \n",
    "\n",
    "for i in range(steps):\n",
    "    a , b = training_set.next()"
   ]
  },
  {
   "cell_type": "code",
   "execution_count": 36,
   "metadata": {},
   "outputs": [
    {
     "data": {
      "text/plain": [
       "186"
      ]
     },
     "execution_count": 36,
     "metadata": {},
     "output_type": "execute_result"
    }
   ],
   "source": [
    "training_set.batch_size"
   ]
  },
  {
   "cell_type": "code",
   "execution_count": 37,
   "metadata": {},
   "outputs": [
    {
     "data": {
      "text/plain": [
       "array([[0.5764706 , 0.5764706 , 0.5764706 , ..., 0.2392157 , 0.2392157 ,\n",
       "        0.2392157 ],\n",
       "       [0.        , 0.        , 0.        , ..., 0.        , 0.        ,\n",
       "        0.        ],\n",
       "       [0.34509805, 0.34509805, 0.34509805, ..., 0.00392157, 0.00392157,\n",
       "        0.00392157],\n",
       "       ...,\n",
       "       [0.        , 0.        , 0.        , ..., 0.8078432 , 0.8078432 ,\n",
       "        0.8078432 ],\n",
       "       [0.        , 0.        , 0.        , ..., 0.        , 0.        ,\n",
       "        0.        ],\n",
       "       [0.10980393, 0.10980393, 0.10980393, ..., 0.        , 0.        ,\n",
       "        0.        ]], dtype=float32)"
      ]
     },
     "execution_count": 37,
     "metadata": {},
     "output_type": "execute_result"
    }
   ],
   "source": [
    "X_train = a.flatten().reshape(186,150528)\n",
    "X_train"
   ]
  },
  {
   "cell_type": "code",
   "execution_count": 38,
   "metadata": {},
   "outputs": [],
   "source": [
    "x = b.ravel()\n",
    "index = 0\n",
    "y_train=[]\n",
    "for i in x:\n",
    "    if(index%2==0):\n",
    "        y_train.append(int(i))\n",
    "    index+=1"
   ]
  },
  {
   "cell_type": "markdown",
   "metadata": {},
   "source": [
    "### Creating array of Testing data and Labels"
   ]
  },
  {
   "cell_type": "code",
   "execution_count": 39,
   "metadata": {},
   "outputs": [],
   "source": [
    "total_images = test_set.n\n",
    "steps = total_images//92 \n",
    "#iterations to cover all data, so if batch is 5, it will take total_images/5  iteration \n",
    "\n",
    "for i in range(steps):\n",
    "    a , b = test_set.next()"
   ]
  },
  {
   "cell_type": "code",
   "execution_count": 40,
   "metadata": {},
   "outputs": [
    {
     "data": {
      "text/plain": [
       "array([[0.06666667, 0.06666667, 0.06666667, ..., 0.09411766, 0.09411766,\n",
       "        0.09411766],\n",
       "       [0.49411768, 0.49411768, 0.49411768, ..., 0.5254902 , 0.5254902 ,\n",
       "        0.5254902 ],\n",
       "       [0.        , 0.        , 0.        , ..., 0.        , 0.        ,\n",
       "        0.        ],\n",
       "       ...,\n",
       "       [0.        , 0.        , 0.        , ..., 0.        , 0.        ,\n",
       "        0.        ],\n",
       "       [0.        , 0.        , 0.        , ..., 0.        , 0.        ,\n",
       "        0.        ],\n",
       "       [0.07450981, 0.07450981, 0.07450981, ..., 0.57254905, 0.57254905,\n",
       "        0.57254905]], dtype=float32)"
      ]
     },
     "execution_count": 40,
     "metadata": {},
     "output_type": "execute_result"
    }
   ],
   "source": [
    "X_test = a.flatten().reshape(92,150528)\n",
    "X_test"
   ]
  },
  {
   "cell_type": "code",
   "execution_count": 41,
   "metadata": {},
   "outputs": [],
   "source": [
    "x = b.ravel()\n",
    "index = 0\n",
    "y_test=[]\n",
    "for i in x:\n",
    "    if(index%2==0):\n",
    "        y_test.append(int(i))\n",
    "    index+=1"
   ]
  },
  {
   "cell_type": "code",
   "execution_count": 42,
   "metadata": {
    "scrolled": true
   },
   "outputs": [
    {
     "data": {
      "text/plain": [
       "92"
      ]
     },
     "execution_count": 42,
     "metadata": {},
     "output_type": "execute_result"
    }
   ],
   "source": [
    "len(y_test)"
   ]
  },
  {
   "cell_type": "code",
   "execution_count": null,
   "metadata": {},
   "outputs": [],
   "source": []
  },
  {
   "cell_type": "markdown",
   "metadata": {},
   "source": [
    "### 1.Gaussian Naive Bayes"
   ]
  },
  {
   "cell_type": "code",
   "execution_count": 223,
   "metadata": {},
   "outputs": [],
   "source": [
    "gnb = GaussianNB()"
   ]
  },
  {
   "cell_type": "code",
   "execution_count": 224,
   "metadata": {},
   "outputs": [
    {
     "data": {
      "text/plain": [
       "GaussianNB()"
      ]
     },
     "execution_count": 224,
     "metadata": {},
     "output_type": "execute_result"
    }
   ],
   "source": [
    "gnb.fit(X_train,y_train)"
   ]
  },
  {
   "cell_type": "markdown",
   "metadata": {},
   "source": [
    "#### Training accuracy"
   ]
  },
  {
   "cell_type": "code",
   "execution_count": 225,
   "metadata": {},
   "outputs": [
    {
     "data": {
      "text/plain": [
       "0.946236559139785"
      ]
     },
     "execution_count": 225,
     "metadata": {},
     "output_type": "execute_result"
    }
   ],
   "source": [
    "gnb.score(X_train,y_train)"
   ]
  },
  {
   "cell_type": "markdown",
   "metadata": {},
   "source": [
    "#### Testing accuracy"
   ]
  },
  {
   "cell_type": "code",
   "execution_count": 226,
   "metadata": {},
   "outputs": [
    {
     "data": {
      "text/plain": [
       "0.967391304347826"
      ]
     },
     "execution_count": 226,
     "metadata": {},
     "output_type": "execute_result"
    }
   ],
   "source": [
    "gnb.score(X_test,y_test)"
   ]
  },
  {
   "cell_type": "code",
   "execution_count": 227,
   "metadata": {},
   "outputs": [],
   "source": [
    "y_pred = gnb.predict(X_test)"
   ]
  },
  {
   "cell_type": "markdown",
   "metadata": {},
   "source": [
    "#### Classification Report"
   ]
  },
  {
   "cell_type": "code",
   "execution_count": 228,
   "metadata": {},
   "outputs": [
    {
     "name": "stdout",
     "output_type": "stream",
     "text": [
      "                   precision    recall  f1-score   support\n",
      "\n",
      "            covid       0.97      0.99      0.98        68\n",
      "non-covid(normal)       0.96      0.92      0.94        24\n",
      "\n",
      "         accuracy                           0.97        92\n",
      "        macro avg       0.96      0.95      0.96        92\n",
      "     weighted avg       0.97      0.97      0.97        92\n",
      "\n"
     ]
    }
   ],
   "source": [
    "target_names=['covid','non-covid(normal)']\n",
    "print(classification_report(y_test, y_pred, target_names=target_names))"
   ]
  },
  {
   "cell_type": "markdown",
   "metadata": {},
   "source": [
    "#### Confusion Matrix"
   ]
  },
  {
   "cell_type": "code",
   "execution_count": 229,
   "metadata": {},
   "outputs": [
    {
     "data": {
      "text/plain": [
       "array([[67,  1],\n",
       "       [ 2, 22]], dtype=int64)"
      ]
     },
     "execution_count": 229,
     "metadata": {},
     "output_type": "execute_result"
    }
   ],
   "source": [
    "confusion_matrix(y_test,y_pred)"
   ]
  },
  {
   "cell_type": "markdown",
   "metadata": {},
   "source": [
    "### 2.Support Vector Classifier"
   ]
  },
  {
   "cell_type": "code",
   "execution_count": 230,
   "metadata": {},
   "outputs": [],
   "source": [
    "svc = SVC()"
   ]
  },
  {
   "cell_type": "code",
   "execution_count": 231,
   "metadata": {},
   "outputs": [
    {
     "data": {
      "text/plain": [
       "SVC()"
      ]
     },
     "execution_count": 231,
     "metadata": {},
     "output_type": "execute_result"
    }
   ],
   "source": [
    "svc.fit(X_train,y_train)"
   ]
  },
  {
   "cell_type": "markdown",
   "metadata": {},
   "source": [
    "#### Training accuracy"
   ]
  },
  {
   "cell_type": "code",
   "execution_count": 232,
   "metadata": {},
   "outputs": [
    {
     "data": {
      "text/plain": [
       "0.9946236559139785"
      ]
     },
     "execution_count": 232,
     "metadata": {},
     "output_type": "execute_result"
    }
   ],
   "source": [
    "svc.score(X_train,y_train)"
   ]
  },
  {
   "cell_type": "markdown",
   "metadata": {},
   "source": [
    "#### Testing accuracy"
   ]
  },
  {
   "cell_type": "code",
   "execution_count": 233,
   "metadata": {},
   "outputs": [
    {
     "data": {
      "text/plain": [
       "0.9782608695652174"
      ]
     },
     "execution_count": 233,
     "metadata": {},
     "output_type": "execute_result"
    }
   ],
   "source": [
    "svc.score(X_test,y_test)"
   ]
  },
  {
   "cell_type": "code",
   "execution_count": 237,
   "metadata": {},
   "outputs": [],
   "source": [
    "y_pred = svc.predict(X_test)"
   ]
  },
  {
   "cell_type": "markdown",
   "metadata": {},
   "source": [
    "#### Classification Report"
   ]
  },
  {
   "cell_type": "code",
   "execution_count": 238,
   "metadata": {},
   "outputs": [
    {
     "name": "stdout",
     "output_type": "stream",
     "text": [
      "                   precision    recall  f1-score   support\n",
      "\n",
      "            covid       0.97      1.00      0.99        68\n",
      "non-covid(normal)       1.00      0.92      0.96        24\n",
      "\n",
      "         accuracy                           0.98        92\n",
      "        macro avg       0.99      0.96      0.97        92\n",
      "     weighted avg       0.98      0.98      0.98        92\n",
      "\n"
     ]
    }
   ],
   "source": [
    "target_names=['covid','non-covid(normal)']\n",
    "print(classification_report(y_test, y_pred, target_names=target_names))"
   ]
  },
  {
   "cell_type": "markdown",
   "metadata": {},
   "source": [
    "#### Confusion Matrix"
   ]
  },
  {
   "cell_type": "code",
   "execution_count": 239,
   "metadata": {},
   "outputs": [
    {
     "data": {
      "text/plain": [
       "array([[68,  0],\n",
       "       [ 2, 22]], dtype=int64)"
      ]
     },
     "execution_count": 239,
     "metadata": {},
     "output_type": "execute_result"
    }
   ],
   "source": [
    "confusion_matrix(y_test,y_pred)"
   ]
  },
  {
   "cell_type": "markdown",
   "metadata": {},
   "source": [
    "#### Loading Data for Keras"
   ]
  },
  {
   "cell_type": "code",
   "execution_count": 113,
   "metadata": {},
   "outputs": [
    {
     "name": "stdout",
     "output_type": "stream",
     "text": [
      "Found 186 images belonging to 2 classes.\n",
      "Found 92 images belonging to 2 classes.\n"
     ]
    }
   ],
   "source": [
    "train_datagen = ImageDataGenerator(rescale=1.0/255.0)\n",
    "\n",
    "test_datagen = ImageDataGenerator(rescale=1.0/255.0)\n",
    "\n",
    "training_set = train_datagen.flow_from_directory(\n",
    "        r'C:\\Users\\shara\\Downloads\\Artificial Intelligence\\Final Project\\dataset\\train',\n",
    "        target_size=(224, 224),\n",
    "        batch_size=32,\n",
    "        class_mode='categorical')\n",
    "\n",
    "test_set = test_datagen.flow_from_directory(\n",
    "        r'C:\\Users\\shara\\Downloads\\Artificial Intelligence\\Final Project\\dataset\\test',\n",
    "        target_size=(224, 224),\n",
    "        batch_size = 64,\n",
    "        class_mode='categorical')"
   ]
  },
  {
   "cell_type": "markdown",
   "metadata": {},
   "source": [
    "## 3.Logistic Regression"
   ]
  },
  {
   "cell_type": "code",
   "execution_count": 47,
   "metadata": {},
   "outputs": [],
   "source": [
    "model = Sequential()\n",
    "model.add(Flatten())\n",
    "model.add(Dense(2, activation='softmax'))"
   ]
  },
  {
   "cell_type": "code",
   "execution_count": 48,
   "metadata": {},
   "outputs": [],
   "source": [
    "model.compile(optimizer='sgd', loss='categorical_crossentropy', metrics=['accuracy'])"
   ]
  },
  {
   "cell_type": "code",
   "execution_count": 49,
   "metadata": {
    "scrolled": true
   },
   "outputs": [
    {
     "name": "stdout",
     "output_type": "stream",
     "text": [
      "Epoch 1/20\n",
      "5/6 [========================>.....] - ETA: 2s - loss: 76.5182 - acc: 0.5734Epoch 1/20\n",
      "6/6 [==============================] - 18s 3s/step - loss: 85.2353 - acc: 0.5540 - val_loss: 174.6905 - val_acc: 0.2609\n",
      "Epoch 2/20\n",
      "5/6 [========================>.....] - ETA: 2s - loss: 39.4092 - acc: 0.7083Epoch 1/20\n",
      "6/6 [==============================] - 17s 3s/step - loss: 35.3791 - acc: 0.6980 - val_loss: 37.0018 - val_acc: 0.7391\n",
      "Epoch 3/20\n",
      "5/6 [========================>.....] - ETA: 2s - loss: 53.2265 - acc: 0.5738Epoch 1/20\n",
      "6/6 [==============================] - 17s 3s/step - loss: 46.5291 - acc: 0.5711 - val_loss: 4.0178 - val_acc: 0.9565\n",
      "Epoch 4/20\n",
      "5/6 [========================>.....] - ETA: 2s - loss: 4.8568 - acc: 0.8634Epoch 1/20\n",
      "6/6 [==============================] - 16s 3s/step - loss: 4.0993 - acc: 0.8748 - val_loss: 0.4898 - val_acc: 0.9674\n",
      "Epoch 5/20\n",
      "5/6 [========================>.....] - ETA: 2s - loss: 2.6808 - acc: 0.9508Epoch 1/20\n",
      "6/6 [==============================] - 16s 3s/step - loss: 3.6055 - acc: 0.9403 - val_loss: 0.0135 - val_acc: 1.0000\n",
      "Epoch 6/20\n",
      "5/6 [========================>.....] - ETA: 2s - loss: 2.9584 - acc: 0.9244Epoch 1/20\n",
      "6/6 [==============================] - 16s 3s/step - loss: 2.4763 - acc: 0.9275 - val_loss: 0.2609 - val_acc: 0.9783\n",
      "Epoch 7/20\n",
      "5/6 [========================>.....] - ETA: 2s - loss: 2.9582 - acc: 0.9349Epoch 1/20\n",
      "6/6 [==============================] - 16s 3s/step - loss: 2.4896 - acc: 0.9366 - val_loss: 0.8196 - val_acc: 0.9674\n",
      "Epoch 8/20\n",
      "5/6 [========================>.....] - ETA: 2s - loss: 3.0513 - acc: 0.9342Epoch 1/20\n",
      "6/6 [==============================] - 15s 3s/step - loss: 3.8056 - acc: 0.9315 - val_loss: 1.4143e-05 - val_acc: 1.0000\n",
      "Epoch 9/20\n",
      "5/6 [========================>.....] - ETA: 2s - loss: 3.4083 - acc: 0.9490Epoch 1/20\n",
      "6/6 [==============================] - 15s 3s/step - loss: 3.0094 - acc: 0.9466 - val_loss: 3.5038e-05 - val_acc: 1.0000\n",
      "Epoch 10/20\n",
      "5/6 [========================>.....] - ETA: 2s - loss: 2.4099 - acc: 0.9413Epoch 1/20\n",
      "6/6 [==============================] - 16s 3s/step - loss: 2.0621 - acc: 0.9427 - val_loss: 8.4655e-04 - val_acc: 1.0000\n",
      "Epoch 11/20\n",
      "5/6 [========================>.....] - ETA: 1s - loss: 1.2787 - acc: 0.9696 Epoch 1/20\n",
      "6/6 [==============================] - 15s 3s/step - loss: 1.3478 - acc: 0.9660 - val_loss: 0.3297 - val_acc: 0.9783\n",
      "Epoch 12/20\n",
      "5/6 [========================>.....] - ETA: 2s - loss: 1.5741 - acc: 0.9204Epoch 1/20\n",
      "6/6 [==============================] - 16s 3s/step - loss: 1.6506 - acc: 0.9263 - val_loss: 0.2065 - val_acc: 0.9783\n",
      "Epoch 13/20\n",
      "5/6 [========================>.....] - ETA: 2s - loss: 2.8581 - acc: 0.8854Epoch 1/20\n",
      "6/6 [==============================] - 16s 3s/step - loss: 2.6856 - acc: 0.8966 - val_loss: 0.2790 - val_acc: 0.9783\n",
      "Epoch 14/20\n",
      "5/6 [========================>.....] - ETA: 1s - loss: 2.3088 - acc: 0.9332Epoch 1/20\n",
      "6/6 [==============================] - 16s 3s/step - loss: 1.9257 - acc: 0.9369 - val_loss: 0.0075 - val_acc: 1.0000\n",
      "Epoch 15/20\n",
      "5/6 [========================>.....] - ETA: 1s - loss: 1.0035 - acc: 0.9407Epoch 1/20\n",
      "6/6 [==============================] - 15s 2s/step - loss: 1.0297 - acc: 0.9422 - val_loss: 0.6720 - val_acc: 0.9783\n",
      "Epoch 16/20\n",
      "5/6 [========================>.....] - ETA: 2s - loss: 0.7720 - acc: 0.9809  Epoch 1/20\n",
      "6/6 [==============================] - 18s 3s/step - loss: 0.8032 - acc: 0.9771 - val_loss: 0.0437 - val_acc: 0.9783\n",
      "Epoch 17/20\n",
      "5/6 [========================>.....] - ETA: 2s - loss: 0.7454 - acc: 0.9477Epoch 1/20\n",
      "6/6 [==============================] - 17s 3s/step - loss: 0.8630 - acc: 0.9488 - val_loss: 0.3846 - val_acc: 0.9783\n",
      "Epoch 18/20\n",
      "5/6 [========================>.....] - ETA: 2s - loss: 1.2612 - acc: 0.9518 Epoch 1/20\n",
      "6/6 [==============================] - 16s 3s/step - loss: 2.1137 - acc: 0.9349 - val_loss: 0.6076 - val_acc: 0.9565\n",
      "Epoch 19/20\n",
      "5/6 [========================>.....] - ETA: 2s - loss: 0.5073 - acc: 0.9663Epoch 1/20\n",
      "6/6 [==============================] - 17s 3s/step - loss: 0.4375 - acc: 0.9636 - val_loss: 5.4362e-05 - val_acc: 1.0000\n",
      "Epoch 20/20\n",
      "5/6 [========================>.....] - ETA: 2s - loss: 4.2546 - acc: 0.8538Epoch 1/20\n",
      "6/6 [==============================] - 16s 3s/step - loss: 4.0579 - acc: 0.8526 - val_loss: 1.1830e-05 - val_acc: 1.0000\n"
     ]
    },
    {
     "data": {
      "image/png": "[encoded data removed]",
      "text/plain": [
       "<Figure size 432x288 with 1 Axes>"
      ]
     },
     "metadata": {
      "needs_background": "light"
     },
     "output_type": "display_data"
    }
   ],
   "source": [
    "model = model.fit(training_set,validation_data=test_set,epochs=20)\n",
    "plt.plot(model.history['acc'])\n",
    "plt.plot(model.history['val_acc'])\n",
    "plt.title('model accuracy')\n",
    "plt.ylabel('accuracy')\n",
    "plt.xlabel('epoch')\n",
    "plt.legend(['train', 'validation'], loc='upper left')\n",
    "plt.show()"
   ]
  },
  {
   "cell_type": "markdown",
   "metadata": {},
   "source": [
    "### 4.Vanilla CNN"
   ]
  },
  {
   "cell_type": "code",
   "execution_count": 50,
   "metadata": {},
   "outputs": [],
   "source": [
    "input_shape = (224,224,3)\n",
    "model = Sequential()\n",
    "model.add(Conv2D(32, kernel_size=(3, 3),input_shape=input_shape))\n",
    "model.add(Flatten())\n",
    "model.add(Dense(2, activation='softmax'))"
   ]
  },
  {
   "cell_type": "code",
   "execution_count": 51,
   "metadata": {},
   "outputs": [],
   "source": [
    "sgd = SGD(lr=0.001, momentum=0.9)\n",
    "model.compile(optimizer='sgd', loss='categorical_crossentropy', metrics=['accuracy'])"
   ]
  },
  {
   "cell_type": "code",
   "execution_count": 52,
   "metadata": {
    "scrolled": true
   },
   "outputs": [
    {
     "name": "stdout",
     "output_type": "stream",
     "text": [
      "Epoch 1/20\n",
      "5/6 [========================>.....] - ETA: 2s - loss: 94500.9572 - acc: 0.4375Epoch 1/20\n",
      "6/6 [==============================] - 18s 3s/step - loss: 1896835.0840 - acc: 0.4516 - val_loss: 209696336.0000 - val_acc: 0.2609\n",
      "Epoch 2/20\n",
      "5/6 [========================>.....] - ETA: 2s - loss: 758234102776.0000 - acc: 0.5130Epoch 1/20\n",
      "6/6 [==============================] - 16s 3s/step - loss: 54130153451385.2891 - acc: 0.5269 - val_loss: 5021650797985792.0000 - val_acc: 0.2609\n",
      "Epoch 3/20\n",
      "5/6 [========================>.....] - ETA: 2s - loss: 178538780376769036288.0000 - acc: 0.4935Epoch 1/20\n",
      "6/6 [==============================] - 17s 3s/step - loss: 2129421266460985524224.0000 - acc: 0.5161 - val_loss: 19129659225154898624512.0000 - val_acc: 0.7391\n",
      "Epoch 4/20\n",
      "5/6 [========================>.....] - ETA: 2s - loss: 2834261947992300514512470016.0000 - acc: 0.4740Epoch 1/20\n",
      "6/6 [==============================] - 17s 3s/step - loss: 56761008332860043619981066240.0000 - acc: 0.4731 - val_loss: 2410623547311646207491107192832.0000 - val_acc: 0.7391\n",
      "Epoch 5/20\n",
      "5/6 [========================>.....] - ETA: 2s - loss: 265050771347648061411208222606360576.0000 - acc: 0.4935Epoch 1/20\n",
      "6/6 [==============================] - 16s 3s/step - loss: inf - acc: 0.4839 - val_loss: nan - val_acc: 0.3152\n",
      "Epoch 6/20\n",
      "5/6 [========================>.....] - ETA: 1s - loss: nan - acc: 0.4610Epoch 1/20\n",
      "6/6 [==============================] - 16s 3s/step - loss: nan - acc: 0.4839 - val_loss: nan - val_acc: 0.2609\n",
      "Epoch 7/20\n",
      "5/6 [========================>.....] - ETA: 2s - loss: nan - acc: 0.4805Epoch 1/20\n",
      "6/6 [==============================] - 17s 3s/step - loss: nan - acc: 0.4839 - val_loss: nan - val_acc: 0.2609\n",
      "Epoch 8/20\n",
      "5/6 [========================>.....] - ETA: 2s - loss: nan - acc: 0.4935Epoch 1/20\n",
      "6/6 [==============================] - 17s 3s/step - loss: nan - acc: 0.4839 - val_loss: nan - val_acc: 0.2609\n",
      "Epoch 9/20\n",
      "5/6 [========================>.....] - ETA: 2s - loss: nan - acc: 0.4805Epoch 1/20\n",
      "6/6 [==============================] - 16s 3s/step - loss: nan - acc: 0.4839 - val_loss: nan - val_acc: 0.2609\n",
      "Epoch 10/20\n",
      "5/6 [========================>.....] - ETA: 0s - loss: nan - acc: 0.4740Epoch 1/20\n",
      "6/6 [==============================] - 7s 1s/step - loss: nan - acc: 0.4839 - val_loss: nan - val_acc: 0.2609\n",
      "Epoch 11/20\n",
      "5/6 [========================>.....] - ETA: 0s - loss: nan - acc: 0.4812Epoch 1/20\n",
      "6/6 [==============================] - 7s 1s/step - loss: nan - acc: 0.4839 - val_loss: nan - val_acc: 0.2609\n",
      "Epoch 12/20\n",
      "5/6 [========================>.....] - ETA: 0s - loss: nan - acc: 0.4740Epoch 1/20\n",
      "6/6 [==============================] - 6s 1s/step - loss: nan - acc: 0.4839 - val_loss: nan - val_acc: 0.2609\n",
      "Epoch 13/20\n",
      "5/6 [========================>.....] - ETA: 0s - loss: nan - acc: 0.4740Epoch 1/20\n",
      "6/6 [==============================] - 6s 1s/step - loss: nan - acc: 0.4839 - val_loss: nan - val_acc: 0.2609\n",
      "Epoch 14/20\n",
      "5/6 [========================>.....] - ETA: 0s - loss: nan - acc: 0.4935Epoch 1/20\n",
      "6/6 [==============================] - 6s 1s/step - loss: nan - acc: 0.4839 - val_loss: nan - val_acc: 0.2609\n",
      "Epoch 15/20\n",
      "5/6 [========================>.....] - ETA: 0s - loss: nan - acc: 0.4935Epoch 1/20\n",
      "6/6 [==============================] - 6s 1s/step - loss: nan - acc: 0.4839 - val_loss: nan - val_acc: 0.2609\n",
      "Epoch 16/20\n",
      "5/6 [========================>.....] - ETA: 0s - loss: nan - acc: 0.4545Epoch 1/20\n",
      "6/6 [==============================] - 6s 1s/step - loss: nan - acc: 0.4839 - val_loss: nan - val_acc: 0.2609\n",
      "Epoch 17/20\n",
      "5/6 [========================>.....] - ETA: 0s - loss: nan - acc: 0.4870Epoch 1/20\n",
      "6/6 [==============================] - 6s 1s/step - loss: nan - acc: 0.4839 - val_loss: nan - val_acc: 0.2609\n",
      "Epoch 18/20\n",
      "5/6 [========================>.....] - ETA: 0s - loss: nan - acc: 0.4675Epoch 1/20\n",
      "6/6 [==============================] - 6s 1s/step - loss: nan - acc: 0.4839 - val_loss: nan - val_acc: 0.2609\n",
      "Epoch 19/20\n",
      "5/6 [========================>.....] - ETA: 0s - loss: nan - acc: 0.4812Epoch 1/20\n",
      "6/6 [==============================] - 6s 1s/step - loss: nan - acc: 0.4839 - val_loss: nan - val_acc: 0.2609\n",
      "Epoch 20/20\n",
      "5/6 [========================>.....] - ETA: 0s - loss: nan - acc: 0.4740Epoch 1/20\n",
      "6/6 [==============================] - 6s 1s/step - loss: nan - acc: 0.4839 - val_loss: nan - val_acc: 0.2609\n"
     ]
    },
    {
     "data": {
      "image/png": "[encoded data removed]",
      "text/plain": [
       "<Figure size 432x288 with 1 Axes>"
      ]
     },
     "metadata": {
      "needs_background": "light"
     },
     "output_type": "display_data"
    }
   ],
   "source": [
    "model = model.fit(training_set,validation_data=test_set,epochs=20)\n",
    "plt.plot(model.history['acc'])\n",
    "plt.plot(model.history['val_acc'])\n",
    "plt.title('model accuracy')\n",
    "plt.ylabel('accuracy')\n",
    "plt.xlabel('epoch')\n",
    "plt.legend(['train', 'validation'], loc='upper left')\n",
    "plt.show()"
   ]
  },
  {
   "cell_type": "markdown",
   "metadata": {},
   "source": [
    "### 5.CNN with Batch Normalization and Dropout"
   ]
  },
  {
   "cell_type": "code",
   "execution_count": 114,
   "metadata": {},
   "outputs": [],
   "source": [
    "input_shape = (224,224,3)"
   ]
  },
  {
   "cell_type": "code",
   "execution_count": 115,
   "metadata": {},
   "outputs": [],
   "source": [
    "model = Sequential()\n",
    "model.add(Conv2D(32, kernel_size=(3, 3),input_shape=input_shape))\n",
    "model.add(Activation('relu'))\n",
    "model.add(BatchNormalization())\n",
    "model.add(Dropout(0.3))\n",
    "model.add(Conv2D(64, kernel_size = (3, 3)))\n",
    "model.add(Activation('relu'))\n",
    "model.add(BatchNormalization())\n",
    "model.add(Dropout(0.3))\n",
    "model.add(Conv2D(64, kernel_size = (3, 3)))\n",
    "model.add(Activation('relu'))\n",
    "model.add(BatchNormalization())\n",
    "model.add(Dropout(0.3))\n",
    "model.add(MaxPooling2D(pool_size=(2, 2)))\n",
    "model.add(Flatten())\n",
    "model.add(Dense(2, activation='softmax'))"
   ]
  },
  {
   "cell_type": "code",
   "execution_count": 116,
   "metadata": {},
   "outputs": [],
   "source": [
    "sgd = SGD(lr=0.001)\n",
    "model.compile(optimizer='adam', loss='categorical_crossentropy', metrics=['accuracy'])"
   ]
  },
  {
   "cell_type": "code",
   "execution_count": 118,
   "metadata": {
    "scrolled": true
   },
   "outputs": [
    {
     "name": "stdout",
     "output_type": "stream",
     "text": [
      "Epoch 1/10\n",
      "5/6 [========================>.....] - ETA: 11s - loss: 48.0006 - acc: 0.8052Epoch 1/10\n",
      "6/6 [==============================] - 81s 14s/step - loss: 44.8164 - acc: 0.8226 - val_loss: 12.6969 - val_acc: 0.4674\n",
      "Epoch 2/10\n",
      "5/6 [========================>.....] - ETA: 12s - loss: 7.6264 - acc: 0.9416Epoch 1/10\n",
      "6/6 [==============================] - 85s 14s/step - loss: 6.3559 - acc: 0.9516 - val_loss: 22.6090 - val_acc: 0.6522\n",
      "Epoch 3/10\n",
      "5/6 [========================>.....] - ETA: 12s - loss: 6.9848 - acc: 0.9740Epoch 1/10\n",
      "6/6 [==============================] - 82s 14s/step - loss: 8.5608 - acc: 0.9731 - val_loss: 16.3677 - val_acc: 0.7500\n",
      "Epoch 4/10\n",
      "5/6 [========================>.....] - ETA: 12s - loss: 6.0905 - acc: 0.9740Epoch 1/10\n",
      "6/6 [==============================] - 82s 14s/step - loss: 5.0988 - acc: 0.9785 - val_loss: 7.9775 - val_acc: 0.8152\n",
      "Epoch 5/10\n",
      "5/6 [========================>.....] - ETA: 12s - loss: 1.4793 - acc: 0.9812Epoch 1/10\n",
      "6/6 [==============================] - 80s 13s/step - loss: 1.2385 - acc: 0.9839 - val_loss: 3.9523 - val_acc: 0.9130\n",
      "Epoch 6/10\n",
      "5/6 [========================>.....] - ETA: 11s - loss: 1.1905 - acc: 0.9870Epoch 1/10\n",
      "6/6 [==============================] - 81s 14s/step - loss: 0.9820 - acc: 0.9892 - val_loss: 1.9346 - val_acc: 0.9457\n",
      "Epoch 7/10\n",
      "5/6 [========================>.....] - ETA: 12s - loss: 0.0000e+00 - acc: 1.0000Epoch 1/10\n",
      "6/6 [==============================] - 80s 13s/step - loss: 0.4098 - acc: 0.9946 - val_loss: 8.4076 - val_acc: 0.9130\n",
      "Epoch 8/10\n",
      "5/6 [========================>.....] - ETA: 12s - loss: 0.1791 - acc: 0.9937Epoch 1/10\n",
      "6/6 [==============================] - 80s 13s/step - loss: 0.1499 - acc: 0.9946 - val_loss: 11.7317 - val_acc: 0.8587\n",
      "Epoch 9/10\n",
      "5/6 [========================>.....] - ETA: 12s - loss: 0.0000e+00 - acc: 1.0000Epoch 1/10\n",
      "6/6 [==============================] - 81s 14s/step - loss: 0.0000e+00 - acc: 1.0000 - val_loss: 20.7106 - val_acc: 0.8152\n",
      "Epoch 10/10\n",
      "5/6 [========================>.....] - ETA: 11s - loss: 1.4901e-09 - acc: 1.0000Epoch 1/10\n",
      "6/6 [==============================] - 80s 13s/step - loss: 1.2475e-09 - acc: 1.0000 - val_loss: 31.0118 - val_acc: 0.7826\n"
     ]
    },
    {
     "data": {
      "image/png": "[encoded data removed]",
      "text/plain": [
       "<Figure size 432x288 with 1 Axes>"
      ]
     },
     "metadata": {
      "needs_background": "light"
     },
     "output_type": "display_data"
    }
   ],
   "source": [
    "model = model.fit(training_set,validation_data=test_set,epochs=10)\n",
    "plt.plot(model.history['acc'])\n",
    "plt.plot(model.history['val_acc'])\n",
    "plt.title('model accuracy')\n",
    "plt.ylabel('accuracy')\n",
    "plt.xlabel('epoch')\n",
    "plt.legend(['train', 'validation'], loc='upper left')\n",
    "plt.show()"
   ]
  },
  {
   "cell_type": "markdown",
   "metadata": {},
   "source": [
    "## 6. VGG16"
   ]
  },
  {
   "cell_type": "code",
   "execution_count": 75,
   "metadata": {
    "scrolled": true
   },
   "outputs": [
    {
     "name": "stdout",
     "output_type": "stream",
     "text": [
      "Found 186 images belonging to 2 classes.\n",
      "Found 92 images belonging to 2 classes.\n"
     ]
    }
   ],
   "source": [
    "train_datagen = ImageDataGenerator(rescale=1.0/255.0)\n",
    "\n",
    "test_datagen = ImageDataGenerator(rescale=1.0/255.0)\n",
    "\n",
    "training_set = train_datagen.flow_from_directory(\n",
    "        r'C:\\Users\\shara\\Downloads\\Artificial Intelligence\\Final Project\\dataset\\train',\n",
    "        target_size=(224, 224),\n",
    "        class_mode='categorical')\n",
    "\n",
    "test_set = test_datagen.flow_from_directory(\n",
    "        r'C:\\Users\\shara\\Downloads\\Artificial Intelligence\\Final Project\\dataset\\test',\n",
    "        target_size=(224, 224),\n",
    "        class_mode='categorical')"
   ]
  },
  {
   "cell_type": "code",
   "execution_count": 106,
   "metadata": {
    "scrolled": true
   },
   "outputs": [
    {
     "name": "stdout",
     "output_type": "stream",
     "text": [
      "Model: \"vgg16\"\n",
      "_________________________________________________________________\n",
      "Layer (type)                 Output Shape              Param #   \n",
      "=================================================================\n",
      "input_7 (InputLayer)         (None, 224, 224, 3)       0         \n",
      "_________________________________________________________________\n",
      "block1_conv1 (Conv2D)        (None, 224, 224, 64)      1792      \n",
      "_________________________________________________________________\n",
      "block1_conv2 (Conv2D)        (None, 224, 224, 64)      36928     \n",
      "_________________________________________________________________\n",
      "block1_pool (MaxPooling2D)   (None, 112, 112, 64)      0         \n",
      "_________________________________________________________________\n",
      "block2_conv1 (Conv2D)        (None, 112, 112, 128)     73856     \n",
      "_________________________________________________________________\n",
      "block2_conv2 (Conv2D)        (None, 112, 112, 128)     147584    \n",
      "_________________________________________________________________\n",
      "block2_pool (MaxPooling2D)   (None, 56, 56, 128)       0         \n",
      "_________________________________________________________________\n",
      "block3_conv1 (Conv2D)        (None, 56, 56, 256)       295168    \n",
      "_________________________________________________________________\n",
      "block3_conv2 (Conv2D)        (None, 56, 56, 256)       590080    \n",
      "_________________________________________________________________\n",
      "block3_conv3 (Conv2D)        (None, 56, 56, 256)       590080    \n",
      "_________________________________________________________________\n",
      "block3_pool (MaxPooling2D)   (None, 28, 28, 256)       0         \n",
      "_________________________________________________________________\n",
      "block4_conv1 (Conv2D)        (None, 28, 28, 512)       1180160   \n",
      "_________________________________________________________________\n",
      "block4_conv2 (Conv2D)        (None, 28, 28, 512)       2359808   \n",
      "_________________________________________________________________\n",
      "block4_conv3 (Conv2D)        (None, 28, 28, 512)       2359808   \n",
      "_________________________________________________________________\n",
      "block4_pool (MaxPooling2D)   (None, 14, 14, 512)       0         \n",
      "_________________________________________________________________\n",
      "block5_conv1 (Conv2D)        (None, 14, 14, 512)       2359808   \n",
      "_________________________________________________________________\n",
      "block5_conv2 (Conv2D)        (None, 14, 14, 512)       2359808   \n",
      "_________________________________________________________________\n",
      "block5_conv3 (Conv2D)        (None, 14, 14, 512)       2359808   \n",
      "_________________________________________________________________\n",
      "block5_pool (MaxPooling2D)   (None, 7, 7, 512)         0         \n",
      "=================================================================\n",
      "Total params: 14,714,688\n",
      "Trainable params: 14,714,688\n",
      "Non-trainable params: 0\n",
      "_________________________________________________________________\n"
     ]
    }
   ],
   "source": [
    "from keras.applications import VGG16\n",
    "new_input = (224, 224, 3)\n",
    "pretrained_model = VGG16(include_top=False, input_shape = new_input)\n",
    "pretrained_model.summary()"
   ]
  },
  {
   "cell_type": "code",
   "execution_count": 107,
   "metadata": {},
   "outputs": [],
   "source": [
    "from keras.utils import to_categorical\n",
    "# extract train and val features\n",
    "vgg_features_train = pretrained_model.predict(training_set)\n",
    "vgg_features_val = pretrained_model.predict(test_set)"
   ]
  },
  {
   "cell_type": "code",
   "execution_count": 108,
   "metadata": {},
   "outputs": [],
   "source": [
    "train_target = to_categorical(training_set.labels)\n",
    "val_target = to_categorical(test_set.labels)"
   ]
  },
  {
   "cell_type": "code",
   "execution_count": 111,
   "metadata": {},
   "outputs": [
    {
     "name": "stdout",
     "output_type": "stream",
     "text": [
      "Model: \"sequential_45\"\n",
      "_________________________________________________________________\n",
      "Layer (type)                 Output Shape              Param #   \n",
      "=================================================================\n",
      "flatten_45 (Flatten)         (None, 25088)             0         \n",
      "_________________________________________________________________\n",
      "dense_71 (Dense)             (None, 2)                 50178     \n",
      "=================================================================\n",
      "Total params: 50,178\n",
      "Trainable params: 50,178\n",
      "Non-trainable params: 0\n",
      "_________________________________________________________________\n",
      "Train on 186 samples, validate on 92 samples\n",
      "Epoch 1/50\n",
      "186/186 [==============================] - 1s 5ms/sample - loss: 1.6589 - acc: 0.4785 - val_loss: 1.9921 - val_acc: 0.2609\n",
      "Epoch 2/50\n",
      "186/186 [==============================] - 0s 268us/sample - loss: 1.1175 - acc: 0.5430 - val_loss: 0.8522 - val_acc: 0.3370\n",
      "Epoch 3/50\n",
      "186/186 [==============================] - 0s 311us/sample - loss: 0.7580 - acc: 0.5430 - val_loss: 0.6840 - val_acc: 0.7283\n",
      "Epoch 4/50\n",
      "186/186 [==============================] - 0s 306us/sample - loss: 0.5711 - acc: 0.6720 - val_loss: 1.0852 - val_acc: 0.3370\n",
      "Epoch 5/50\n",
      "186/186 [==============================] - 0s 273us/sample - loss: 0.4459 - acc: 0.7742 - val_loss: 0.6744 - val_acc: 0.7065\n",
      "Epoch 6/50\n",
      "186/186 [==============================] - 0s 300us/sample - loss: 0.4630 - acc: 0.7688 - val_loss: 0.7512 - val_acc: 0.5000\n",
      "Epoch 7/50\n",
      "186/186 [==============================] - 0s 289us/sample - loss: 0.3674 - acc: 0.8548 - val_loss: 0.8952 - val_acc: 0.4130\n",
      "Epoch 8/50\n",
      "186/186 [==============================] - 0s 338us/sample - loss: 0.3156 - acc: 0.9247 - val_loss: 0.6906 - val_acc: 0.6848\n",
      "Epoch 9/50\n",
      "186/186 [==============================] - 0s 316us/sample - loss: 0.2752 - acc: 0.9194 - val_loss: 1.0799 - val_acc: 0.3370\n",
      "Epoch 10/50\n",
      "186/186 [==============================] - 0s 300us/sample - loss: 0.3009 - acc: 0.8763 - val_loss: 0.7052 - val_acc: 0.6522\n",
      "Epoch 11/50\n",
      "186/186 [==============================] - 0s 400us/sample - loss: 0.2525 - acc: 0.9570 - val_loss: 0.7460 - val_acc: 0.5652\n",
      "Epoch 12/50\n",
      "186/186 [==============================] - 0s 362us/sample - loss: 0.2161 - acc: 0.9839 - val_loss: 0.7942 - val_acc: 0.5543\n",
      "Epoch 13/50\n",
      "186/186 [==============================] - 0s 387us/sample - loss: 0.1944 - acc: 0.9892 - val_loss: 0.8115 - val_acc: 0.5435\n",
      "Epoch 14/50\n",
      "186/186 [==============================] - 0s 416us/sample - loss: 0.1838 - acc: 0.9892 - val_loss: 0.7201 - val_acc: 0.6304\n",
      "Epoch 15/50\n",
      "186/186 [==============================] - 0s 380us/sample - loss: 0.1763 - acc: 0.9946 - val_loss: 0.9775 - val_acc: 0.4022\n",
      "Epoch 16/50\n",
      "186/186 [==============================] - 0s 370us/sample - loss: 0.1688 - acc: 0.9839 - val_loss: 0.7182 - val_acc: 0.6522\n",
      "Epoch 17/50\n",
      "186/186 [==============================] - 0s 331us/sample - loss: 0.1525 - acc: 1.0000 - val_loss: 0.9117 - val_acc: 0.4457\n",
      "Epoch 18/50\n",
      "186/186 [==============================] - 0s 359us/sample - loss: 0.1399 - acc: 1.0000 - val_loss: 0.8005 - val_acc: 0.5435\n",
      "Epoch 19/50\n",
      "186/186 [==============================] - 0s 397us/sample - loss: 0.1275 - acc: 1.0000 - val_loss: 0.8242 - val_acc: 0.5543\n",
      "Epoch 20/50\n",
      "186/186 [==============================] - 0s 322us/sample - loss: 0.1213 - acc: 1.0000 - val_loss: 0.9437 - val_acc: 0.4457\n",
      "Epoch 21/50\n",
      "186/186 [==============================] - 0s 300us/sample - loss: 0.1145 - acc: 1.0000 - val_loss: 0.7748 - val_acc: 0.6087\n",
      "Epoch 22/50\n",
      "186/186 [==============================] - 0s 327us/sample - loss: 0.1093 - acc: 1.0000 - val_loss: 0.9401 - val_acc: 0.4457\n",
      "Epoch 23/50\n",
      "186/186 [==============================] - 0s 300us/sample - loss: 0.1022 - acc: 1.0000 - val_loss: 0.7875 - val_acc: 0.6087\n",
      "Epoch 24/50\n",
      "186/186 [==============================] - 0s 308us/sample - loss: 0.0965 - acc: 1.0000 - val_loss: 0.9800 - val_acc: 0.4239\n",
      "Epoch 25/50\n",
      "186/186 [==============================] - 0s 279us/sample - loss: 0.0986 - acc: 1.0000 - val_loss: 0.7819 - val_acc: 0.6413\n",
      "Epoch 26/50\n",
      "186/186 [==============================] - 0s 332us/sample - loss: 0.0891 - acc: 1.0000 - val_loss: 0.9295 - val_acc: 0.4891\n",
      "Epoch 27/50\n",
      "186/186 [==============================] - 0s 306us/sample - loss: 0.0778 - acc: 1.0000 - val_loss: 0.8177 - val_acc: 0.5978\n",
      "Epoch 28/50\n",
      "186/186 [==============================] - 0s 298us/sample - loss: 0.0770 - acc: 1.0000 - val_loss: 0.8972 - val_acc: 0.5109\n",
      "Epoch 29/50\n",
      "186/186 [==============================] - 0s 311us/sample - loss: 0.0719 - acc: 1.0000 - val_loss: 0.8631 - val_acc: 0.5761\n",
      "Epoch 30/50\n",
      "186/186 [==============================] - 0s 386us/sample - loss: 0.0703 - acc: 1.0000 - val_loss: 0.9382 - val_acc: 0.5000\n",
      "Epoch 31/50\n",
      "186/186 [==============================] - 0s 520us/sample - loss: 0.0655 - acc: 1.0000 - val_loss: 0.8543 - val_acc: 0.5870\n",
      "Epoch 32/50\n",
      "186/186 [==============================] - 0s 525us/sample - loss: 0.0653 - acc: 1.0000 - val_loss: 0.9497 - val_acc: 0.5109\n",
      "Epoch 33/50\n",
      "186/186 [==============================] - 0s 413us/sample - loss: 0.0613 - acc: 1.0000 - val_loss: 0.8780 - val_acc: 0.5761\n",
      "Epoch 34/50\n",
      "186/186 [==============================] - 0s 306us/sample - loss: 0.0577 - acc: 1.0000 - val_loss: 0.9251 - val_acc: 0.5217\n",
      "Epoch 35/50\n",
      "186/186 [==============================] - 0s 307us/sample - loss: 0.0571 - acc: 1.0000 - val_loss: 0.8841 - val_acc: 0.5652\n",
      "Epoch 36/50\n",
      "186/186 [==============================] - 0s 295us/sample - loss: 0.0552 - acc: 1.0000 - val_loss: 0.9504 - val_acc: 0.5109\n",
      "Epoch 37/50\n",
      "186/186 [==============================] - 0s 327us/sample - loss: 0.0527 - acc: 1.0000 - val_loss: 0.9035 - val_acc: 0.5761\n",
      "Epoch 38/50\n",
      "186/186 [==============================] - 0s 349us/sample - loss: 0.0506 - acc: 1.0000 - val_loss: 0.9532 - val_acc: 0.5109\n",
      "Epoch 39/50\n",
      "186/186 [==============================] - 0s 379us/sample - loss: 0.0488 - acc: 1.0000 - val_loss: 0.9166 - val_acc: 0.5761\n",
      "Epoch 40/50\n",
      "186/186 [==============================] - 0s 367us/sample - loss: 0.0463 - acc: 1.0000 - val_loss: 0.9413 - val_acc: 0.5435\n",
      "Epoch 41/50\n",
      "186/186 [==============================] - 0s 410us/sample - loss: 0.0452 - acc: 1.0000 - val_loss: 0.9514 - val_acc: 0.5435\n",
      "Epoch 42/50\n",
      "186/186 [==============================] - 0s 393us/sample - loss: 0.0423 - acc: 1.0000 - val_loss: 0.9129 - val_acc: 0.5652\n",
      "Epoch 43/50\n",
      "186/186 [==============================] - 0s 327us/sample - loss: 0.0412 - acc: 1.0000 - val_loss: 0.9907 - val_acc: 0.5000\n",
      "Epoch 44/50\n",
      "186/186 [==============================] - 0s 319us/sample - loss: 0.0407 - acc: 1.0000 - val_loss: 0.9244 - val_acc: 0.5652\n",
      "Epoch 45/50\n",
      "186/186 [==============================] - 0s 311us/sample - loss: 0.0387 - acc: 1.0000 - val_loss: 0.9817 - val_acc: 0.5217\n",
      "Epoch 46/50\n",
      "186/186 [==============================] - 0s 284us/sample - loss: 0.0369 - acc: 1.0000 - val_loss: 0.9289 - val_acc: 0.5652\n",
      "Epoch 47/50\n",
      "186/186 [==============================] - 0s 327us/sample - loss: 0.0367 - acc: 1.0000 - val_loss: 0.9830 - val_acc: 0.5326\n",
      "Epoch 48/50\n",
      "186/186 [==============================] - 0s 290us/sample - loss: 0.0348 - acc: 1.0000 - val_loss: 0.9640 - val_acc: 0.5543\n",
      "Epoch 49/50\n",
      "186/186 [==============================] - 0s 311us/sample - loss: 0.0338 - acc: 1.0000 - val_loss: 0.9654 - val_acc: 0.5543\n",
      "Epoch 50/50\n",
      "186/186 [==============================] - 0s 284us/sample - loss: 0.0329 - acc: 1.0000 - val_loss: 0.9704 - val_acc: 0.5543\n"
     ]
    },
    {
     "data": {
      "image/png": "[encoded data removed]",
      "text/plain": [
       "<Figure size 432x288 with 1 Axes>"
      ]
     },
     "metadata": {
      "needs_background": "light"
     },
     "output_type": "display_data"
    }
   ],
   "source": [
    "model2 = Sequential()\n",
    "model2.add(Flatten(input_shape=(7,7,512)))\n",
    "model2.add(Dense(2, activation='softmax'))\n",
    "\n",
    "model2.compile(optimizer='adam', metrics=['accuracy'], loss='categorical_crossentropy')\n",
    "\n",
    "model2.summary()\n",
    "\n",
    "his = model2.fit(vgg_features_train, train_target, epochs=50, validation_data=(vgg_features_val, val_target))\n",
    "plt.plot(his.history['acc'])\n",
    "plt.plot(his.history['val_acc'])\n",
    "plt.title('model accuracy')\n",
    "plt.ylabel('accuracy')\n",
    "plt.xlabel('epoch')\n",
    "plt.legend(['train', 'validation'], loc='upper right')\n",
    "plt.show()"
   ]
  },
  {
   "cell_type": "code",
   "execution_count": null,
   "metadata": {},
   "outputs": [],
   "source": []
  },
  {
   "cell_type": "code",
   "execution_count": null,
   "metadata": {},
   "outputs": [],
   "source": []
  }
 ],
 "metadata": {
  "kernelspec": {
   "display_name": "Python 3",
   "language": "python",
   "name": "python3"
  },
  "language_info": {
   "codemirror_mode": {
    "name": "ipython",
    "version": 3
   },
   "file_extension": ".py",
   "mimetype": "text/x-python",
   "name": "python",
   "nbconvert_exporter": "python",
   "pygments_lexer": "ipython3",
   "version": "3.7.4"
  }
 },
 "nbformat": 4,
 "nbformat_minor": 2
}
